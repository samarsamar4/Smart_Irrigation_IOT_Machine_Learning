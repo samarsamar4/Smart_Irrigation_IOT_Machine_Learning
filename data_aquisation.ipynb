{
 "cells": [
  {
   "cell_type": "markdown",
   "metadata": {},
   "source": [
    "# General architecture\n",
    "\n",
    "![](arch.png)"
   ]
  },
  {
   "cell_type": "markdown",
   "metadata": {},
   "source": [
    "The system includes\n",
    "▪ A network of wireless modules that will form the target development platform.\n",
    "These nodes are directly connected to the physical sensors serving\n",
    "acquisition of agri-environmental data measurements (humidity, luminosity, temperature).\n",
    "The modules used are STM32 B_L072Z_LRWAN1 Discovery Kit boards. These modules are connected to external sensors installed at the level of the physical environment (ground,air) and are equipped with a LoRa module CMWX1ZZABZ-091.\n",
    "     ▪ A Border Router (6LBR) or Gateway which is a Raspberry Pi3 + STM32 BOARD B_L072Z  which allows to relay measurements to the Internet."
   ]
  },
  {
   "cell_type": "markdown",
   "metadata": {},
   "source": [
    "# STM 32 B-L072Z-LRWAN1\n",
    "## Description\n",
    "The B-L072Z-LRWAN1 LoRa®/Sigfox™ Discovery kit is a development tool to learn and develop solutions based on LoRa®, Sigfox™, and FSK/OOK technologies. This Discovery kit features an all-in-one open module CMWX1ZZABZ-091 (by Murata). The module is powered by an STM32L072CZ and an SX1276 transceiver. The transceiver features the LoRa® long-range modem, providing ultra-long-range spread spectrum communication and high interference immunity, minimizing current consumption. Since CMWX1ZZABZ-091 is an open module, user has access to all STM32L072 peripherals such as ADC, 16-bit timer, LP-UART, I2C, SPI and USB 2.0 FS (supporting BCD and LPM).\n",
    "\n",
    "\n",
    "\n"
   ]
  },
  {
   "cell_type": "markdown",
   "metadata": {},
   "source": [
    "![](stm.jpg)"
   ]
  },
  {
   "cell_type": "markdown",
   "metadata": {},
   "source": [
    "## Features\n",
    "The B-L072Z-LRWAN1 Discovery kit offers the following features:\n",
    "• A CMWX1ZZABZ-091 LoRa® module from Murata embedding:\n",
    "– STM32L072CZY6 microcontroller featuring 192 Kbytes of Flash memory, 20\n",
    "Kbytes of RAM, 20 Kbytes of EEPROM\n",
    "– SX1276 low-power transceiver which features a LoRa® long-range modem\n",
    "• ARM® mbed™ (see http://mbed.org)\n",
    "• On-board ST-LINK/V2 with selection mode switch to use the kit as a standalone\n",
    "ST-LINK/V2 (with SWD connector for programming and debugging)\n",
    "• Board powered through the USB bus or from an external 3V or 5V supply voltage or\n",
    "battery\n",
    "• Six LEDs:\n",
    "– LD7 (red/green) for USB communication\n",
    "– LD2 (red) for 3.3V power-on\n",
    "– Four user LEDs: LD1 (Green), LD2 (red), LD3 (blue) and LD4 (red)\n",
    "• Two push-buttons (user and reset)\n",
    "• USB with Micro-B connector for the CMWX1ZZABZ-091 modue\n",
    "• Arduino™ connector to plug Arduino/Mbed compatible expansion board.\n",
    "• Extension header for a quick connection to the prototyping board and an easy probing"
   ]
  },
  {
   "cell_type": "markdown",
   "metadata": {},
   "source": [
    "# Pin mapping\n",
    "## Sender node\n",
    "![](cap.png)\n"
   ]
  },
  {
   "cell_type": "markdown",
   "metadata": {},
   "source": [
    "For our external sensors(humidity and luminosity) we used the pin PA0 to read the raw output of the ADC channel 0 for the humidity as for the luminosity we used the pin PA4 to read the raw output of the ADC channel 4."
   ]
  },
  {
   "cell_type": "markdown",
   "metadata": {},
   "source": [
    "# Data acquisition"
   ]
  },
  {
   "cell_type": "markdown",
   "metadata": {},
   "source": [
    "Our sensors are all analog sensors which is why we will be using the ADC of our card to read the data from the sensors. The temperature sensor is internal linked to the temperature channel of the ADC while the humidity and luminosity \n",
    "sensors are external thus linked to the channels 0 and 4 respectively ."
   ]
  },
  {
   "cell_type": "markdown",
   "metadata": {},
   "source": [
    "## Temperature"
   ]
  },
  {
   "cell_type": "markdown",
   "metadata": {},
   "source": [
    "We used as stated above the internal temperature sensor of our card."
   ]
  },
  {
   "cell_type": "markdown",
   "metadata": {},
   "source": [
    "### Code"
   ]
  },
  {
   "cell_type": "markdown",
   "metadata": {},
   "source": [
    "#### acquire data"
   ]
  },
  {
   "cell_type": "code",
   "execution_count": null,
   "metadata": {},
   "outputs": [],
   "source": [
    "measuredLevel0 = HW_AdcReadChannel( ADC_CHANNEL_TEMPSENSOR ) : read the temperature value from the ADC"
   ]
  },
  {
   "cell_type": "markdown",
   "metadata": {},
   "source": [
    "#### Calibration "
   ]
  },
  {
   "cell_type": "code",
   "execution_count": null,
   "metadata": {},
   "outputs": [],
   "source": [
    " \t#define COMPUTE_TEMPERATURE(TS_ADC_DATA, VDDA_APPLI)                           \\\n",
    "((((( ((int32_t)(((TS_ADC_DATA) * VDDA_APPLI) / VDDA_TEMP_CAL)                  \\\n",
    " - (int32_t) *TEMP30_CAL_ADDR)                                          \\\n",
    "    ) * (int32_t)(110 - 30)                                                   \\\n",
    "      )) / (int32_t)(*TEMP110_CAL_ADDR - *TEMP30_CAL_ADDR)                        \\\n",
    "        ) + (30)                                                                      \\\n",
    "\n",
    "          )\n",
    "    temperatureDegreeC1 = COMPUTE_TEMPERATURE( measuredLevel0, batteryLevelmV1);"
   ]
  },
  {
   "cell_type": "code",
   "execution_count": null,
   "metadata": {},
   "outputs": [],
   "source": [
    "TS_CAL2 is temperature sensor calibration value acquired at 110°C found at the mmemory address 0x1FF8 007A \n",
    "TS_CAL1 is temperature sensor calibration value acquired at 30°C  found at the mmemory address 0x1FF8 007E \n",
    "TS_ADC_DATA is the actual temperature sensor output value converted by ADC "
   ]
  },
  {
   "cell_type": "markdown",
   "metadata": {},
   "source": [
    "## Humidity"
   ]
  },
  {
   "cell_type": "markdown",
   "metadata": {},
   "source": [
    "Sensor We used a basic low-cost soil moisture sensor. This sensor has an analogue\n",
    "output that can be connected to the PIN PA0 with a voltage of 3.3V .\n",
    "The soil moisture sensor consists of two probe’s pads which are used to measure the\n",
    "Volumetric content of water. The two probe’s pads allow the current to pass through\n",
    "the soil and then it gets the resistance value to measure the moisture value.\n",
    "• Wet soil : with higher volume of water, conductivity increases and the resistance\n",
    "will decrease. Therefore the output voltage will be less.\n",
    "• Dry soil : poor conductivity and so the resistance increases and the output\n",
    "voltage will be high.\n",
    "Humidity reading The measured soil conductivity and the humidity are inversely\n",
    "related. To get the correct humidity reading we note the extreme values of the\n",
    "measured data in two fields : dry and wet soil. We get the following :\n",
    "Max Raw value (Dry soil) 4095\n",
    "Min Raw Value (Wet soil) 740\n",
    "The measured values present the raw values of humidity which is the output of the\n",
    "ADC register (12 bits). Given the max and min values, we established the following\n",
    "formula to retrieve the humidity in percentage from a measured HumidityRAW Value."
   ]
  },
  {
   "cell_type": "markdown",
   "metadata": {},
   "source": [
    "![](a.png)\n"
   ]
  },
  {
   "cell_type": "markdown",
   "metadata": {},
   "source": [
    "### Code"
   ]
  },
  {
   "cell_type": "markdown",
   "metadata": {},
   "source": [
    "#### Data acquisiton "
   ]
  },
  {
   "cell_type": "code",
   "execution_count": null,
   "metadata": {},
   "outputs": [],
   "source": [
    "measuredLevel_humidity= HW_AdcReadChannel(ADC_CHANNEL_0); reads the raw value of the output of our ADC"
   ]
  },
  {
   "cell_type": "markdown",
   "metadata": {},
   "source": [
    "#### Calibration"
   ]
  },
  {
   "cell_type": "code",
   "execution_count": null,
   "metadata": {},
   "outputs": [],
   "source": [
    "hum= ((float)((((Buffer[3] << 8) | Buffer[2])-(float)740)/((float)4095-(float)740))*100) ;"
   ]
  },
  {
   "cell_type": "markdown",
   "metadata": {},
   "source": [
    "## Luminosity"
   ]
  },
  {
   "cell_type": "code",
   "execution_count": null,
   "metadata": {},
   "outputs": [],
   "source": [
    "The sensor specifications are listed below.\n",
    "Light Level Min 1 lx\n",
    "Light Level Max (3.3V) 46200lx\n",
    "Light Level Max (5V) 70000 lx\n",
    "Since we already used the 3.3V VCC pin for the humidity sensor we will use the 5V pin for the luminosity sensor\n",
    "Given the maximum and the minimum value of the luminosity raw output we established this formula"
   ]
  },
  {
   "cell_type": "markdown",
   "metadata": {},
   "source": [
    "![](b.png)"
   ]
  },
  {
   "cell_type": "markdown",
   "metadata": {},
   "source": [
    "### Code "
   ]
  },
  {
   "cell_type": "markdown",
   "metadata": {},
   "source": [
    "#### Data acquisition"
   ]
  },
  {
   "cell_type": "code",
   "execution_count": null,
   "metadata": {},
   "outputs": [],
   "source": [
    "measuredLevel_luminosity = HW_AdcReadChannel(ADC_CHANNEL_4 );"
   ]
  },
  {
   "cell_type": "markdown",
   "metadata": {},
   "source": [
    "#### Calibration"
   ]
  },
  {
   "cell_type": "code",
   "execution_count": null,
   "metadata": {},
   "outputs": [],
   "source": [
    "lum=(uint16_t)((((Buffer[5] << 8) | Buffer[4])*(float)70000)/((float)2586-(float)321)*((float)5/(float)3));"
   ]
  },
  {
   "cell_type": "markdown",
   "metadata": {},
   "source": [
    "# Communication between nodes "
   ]
  },
  {
   "cell_type": "markdown",
   "metadata": {},
   "source": [
    "## Sender "
   ]
  },
  {
   "cell_type": "markdown",
   "metadata": {},
   "source": [
    "To communicate between diffrent nodes through the  LRWAN1 module we used the functions included in the library radio.h of the stm32."
   ]
  },
  {
   "cell_type": "markdown",
   "metadata": {},
   "source": [
    "### Code "
   ]
  },
  {
   "cell_type": "markdown",
   "metadata": {},
   "source": [
    "First we defined our nodeid which will identify each node"
   ]
  },
  {
   "cell_type": "code",
   "execution_count": null,
   "metadata": {},
   "outputs": [],
   "source": [
    "uint8_t  nodeid=1;"
   ]
  },
  {
   "cell_type": "markdown",
   "metadata": {},
   "source": [
    "First we defined a Buffer that we will fill and send to the reciever node :"
   ]
  },
  {
   "cell_type": "code",
   "execution_count": null,
   "metadata": {},
   "outputs": [],
   "source": [
    "uint8_t Buffer[6];"
   ]
  },
  {
   "cell_type": "markdown",
   "metadata": {},
   "source": [
    "then we initialised the node as a sender node:"
   ]
  },
  {
   "cell_type": "code",
   "execution_count": null,
   "metadata": {},
   "outputs": [],
   "source": [
    "RadioEvents.TxDone = OnTxDone;"
   ]
  },
  {
   "cell_type": "markdown",
   "metadata": {},
   "source": [
    "where OnTxDone is defined as such :"
   ]
  },
  {
   "cell_type": "code",
   "execution_count": null,
   "metadata": {},
   "outputs": [],
   "source": [
    "\n",
    "void OnTxDone( void )\n",
    "{\n",
    "  Radio.Sleep( );\n",
    "  State = TX;\n",
    "  PRINTF(\"OnTxDone\\n\\r\");\n",
    "}"
   ]
  },
  {
   "cell_type": "markdown",
   "metadata": {},
   "source": [
    "After that we filled the buffer in this order : nodeid,temperature,humidite,luminosite\n",
    "We divided the humidity and luminosity on two sperate Buffer Boxes because our lrwan1 module sends in bytes."
   ]
  },
  {
   "cell_type": "code",
   "execution_count": null,
   "metadata": {},
   "outputs": [],
   "source": [
    "    Buffer[0]= (uint8_t)nodeid;\n",
    "    Buffer[1]=(uint8_t)temperatureDegreeC1; \n",
    "    Buffer[2]=(uint8_t)( measuredLevel_humidity & 0xff); \n",
    "    Buffer[3] =( measuredLevel_humidity>>8); \n",
    "    Buffer[4] =( measuredLevel_luminosity & 0xff); \n",
    "    Buffer[5] =( measuredLevel_luminosity>>8);"
   ]
  },
  {
   "cell_type": "markdown",
   "metadata": {},
   "source": [
    "Finally the packet transmission is done by the function radio.send which takes as parameters the buffer and its size"
   ]
  },
  {
   "cell_type": "code",
   "execution_count": null,
   "metadata": {},
   "outputs": [],
   "source": [
    "Radio.Send(Buffer, sizeof(Buffer));"
   ]
  },
  {
   "cell_type": "markdown",
   "metadata": {},
   "source": [
    "## Reciever "
   ]
  },
  {
   "cell_type": "markdown",
   "metadata": {},
   "source": [
    "### Code"
   ]
  },
  {
   "cell_type": "markdown",
   "metadata": {},
   "source": [
    "we initialised our node as a reciever node"
   ]
  },
  {
   "cell_type": "code",
   "execution_count": null,
   "metadata": {},
   "outputs": [],
   "source": [
    "RadioEvents.RxDone = receiver;"
   ]
  },
  {
   "cell_type": "markdown",
   "metadata": {},
   "source": [
    "with reciever defined as :"
   ]
  },
  {
   "cell_type": "code",
   "execution_count": null,
   "metadata": {},
   "outputs": [],
   "source": [
    "void receiver( uint8_t *payload, uint16_t size, int16_t rssi, int8_t snr )\n",
    "{\n",
    "  Radio.Sleep( );\n",
    "  BufferSize = size;\n",
    "  memcpy(Buffer, payload, BufferSize );\n",
    "}"
   ]
  },
  {
   "cell_type": "markdown",
   "metadata": {},
   "source": [
    "then we sent the calibrated the values recieved as shown in the sensor description part\n",
    "After that we created a new buffer to be sent to our gateway the Rasberry Pi card through a USB connection"
   ]
  },
  {
   "cell_type": "code",
   "execution_count": null,
   "metadata": {},
   "outputs": [],
   "source": [
    "char  buffer_usart[100]; "
   ]
  },
  {
   "cell_type": "markdown",
   "metadata": {},
   "source": [
    "and we filled it with the data calibrated using sprintf"
   ]
  },
  {
   "cell_type": "code",
   "execution_count": null,
   "metadata": {},
   "outputs": [],
   "source": [
    "sprintf(buffer_usart,\"%d:%d:%d:%d\\n\",(uint8_t) nodeid,(uint8_t) temp,(uint8_t) hum,(uint8_t) lum);"
   ]
  },
  {
   "cell_type": "markdown",
   "metadata": {},
   "source": [
    "Finally we sent the new buffer to the Rasberry Pi through a USB connection"
   ]
  },
  {
   "cell_type": "code",
   "execution_count": null,
   "metadata": {},
   "outputs": [],
   "source": [
    "vcom_Trace((uint8_t*)buffer_usart, sizeof(buffer_usart) );"
   ]
  }
 ],
 "metadata": {
  "kernelspec": {
   "display_name": "Python 3",
   "language": "python",
   "name": "python3"
  },
  "language_info": {
   "codemirror_mode": {
    "name": "ipython",
    "version": 3
   },
   "file_extension": ".py",
   "mimetype": "text/x-python",
   "name": "python",
   "nbconvert_exporter": "python",
   "pygments_lexer": "ipython3",
   "version": "3.7.1"
  }
 },
 "nbformat": 4,
 "nbformat_minor": 2
}

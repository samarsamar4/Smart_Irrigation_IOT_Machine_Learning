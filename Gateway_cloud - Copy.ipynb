{
 "cells": [
  {
   "cell_type": "markdown",
   "metadata": {},
   "source": [
    "<h1 style=\"color:#FF5733 ; font-size:50px\"> Beneral architecture </h1>\n",
    "<h3>Gateway configuration</h3>\n",
    "<h3>Repatriation of the measurements for archiving in a database on the Amazon Web server (EC2)</h3>\n",
    "<h3>The realization of a Lora WAN gateway based on an uart link between STM32 Raspberry Pi.</h3>\n"
   ]
  },
  {
   "cell_type": "markdown",
   "metadata": {},
   "source": [
    "<center><h1 style=\"color:#FF5733 ; font-size:50px\"> Part 1 </h1></center>"
   ]
  },
  {
   "cell_type": "markdown",
   "metadata": {},
   "source": [
    "<h1 style=\"color:green  \"> 1. Configuration of RASPBERRY Pi 3 </h1>"
   ]
  },
  {
   "cell_type": "markdown",
   "metadata": {},
   "source": [
    "<h2 style=\"color:#333399\">Tools</h2>"
   ]
  },
  {
   "cell_type": "raw",
   "metadata": {},
   "source": [
    "RASPBERRY PI 3 card\n",
    "Temperature sensor\n",
    "SD card 16 GB\n",
    "power source 5v and + 2A"
   ]
  },
  {
   "cell_type": "markdown",
   "metadata": {},
   "source": [
    "<img src='Picture0.png' style=\"width:500px;height:300px;\"> </img>"
   ]
  },
  {
   "cell_type": "markdown",
   "metadata": {},
   "source": [
    "<h2 style=\"color:#333399\"> Download RASBIAN </h2>"
   ]
  },
  {
   "cell_type": "code",
   "execution_count": null,
   "metadata": {},
   "outputs": [],
   "source": [
    "We download the image with desktop  based on Debian Stretch"
   ]
  },
  {
   "cell_type": "markdown",
   "metadata": {},
   "source": [
    "<img src=\"Picture1.png\"></img>"
   ]
  },
  {
   "cell_type": "markdown",
   "metadata": {},
   "source": [
    "<h2 style=\"color:#333399\"> Download Advanced Ip scanner </h2>"
   ]
  },
  {
   "cell_type": "code",
   "execution_count": null,
   "metadata": {},
   "outputs": [],
   "source": [
    "The Advanced Ip scanner scans all network devices among them the Ip address of Raspberry Pi3."
   ]
  },
  {
   "cell_type": "markdown",
   "metadata": {},
   "source": [
    "<img src=\"Picture2.png\"></img>"
   ]
  },
  {
   "cell_type": "markdown",
   "metadata": {},
   "source": [
    "<h2 style=\"color:#333399\">Find the ip address of Raspberry</h2>"
   ]
  },
  {
   "cell_type": "code",
   "execution_count": null,
   "metadata": {},
   "outputs": [],
   "source": [
    "Ping the ip address of raspberry card."
   ]
  },
  {
   "cell_type": "markdown",
   "metadata": {},
   "source": [
    "<img src=\"Picture3.png\"></img>"
   ]
  },
  {
   "cell_type": "markdown",
   "metadata": {},
   "source": [
    "<h2 style=\"color:#333399\">Putty configuration </h2>"
   ]
  },
  {
   "cell_type": "code",
   "execution_count": null,
   "metadata": {},
   "outputs": [],
   "source": [
    "PuTTY is an SSH client that remote access to another computer.\n",
    "SSH is an encrypted secure remote login protocol, which uses port 22 by default."
   ]
  },
  {
   "cell_type": "markdown",
   "metadata": {},
   "source": [
    "<img src=\"Picture4.png\"></img>"
   ]
  },
  {
   "cell_type": "markdown",
   "metadata": {},
   "source": [
    "<h2 style=\"color:#333399\"> Remote Desktop Connection </h2>"
   ]
  },
  {
   "cell_type": "code",
   "execution_count": null,
   "metadata": {},
   "outputs": [],
   "source": [
    "Vizialization of the interface of Raspberry pi 3 once we put its IP addess in the computer name field."
   ]
  },
  {
   "cell_type": "markdown",
   "metadata": {},
   "source": [
    "<img src=\"Picture6.png\"> </img>"
   ]
  },
  {
   "cell_type": "markdown",
   "metadata": {},
   "source": [
    "<center><h1 style=\"color:#FF5733 ; font-size:50px\"> Part 2  </h1></center>"
   ]
  },
  {
   "cell_type": "markdown",
   "metadata": {},
   "source": [
    "<h1 style=\"color:green  \"> 1. Acquisation phase of temperature from GPIO Raspberry Pi </h1>"
   ]
  },
  {
   "cell_type": "markdown",
   "metadata": {},
   "source": [
    "<h2 style=\"color:#333399\"> Connect the DHT11 sensor to the Raspberry Pi.</h2>"
   ]
  },
  {
   "cell_type": "raw",
   "metadata": {},
   "source": [
    "The GPIO of the Raspberry Pi3 "
   ]
  },
  {
   "cell_type": "markdown",
   "metadata": {},
   "source": [
    "<img src=\"./pics/GPIO.png\" style=\"width:500px;height:300px;\" > "
   ]
  },
  {
   "cell_type": "markdown",
   "metadata": {},
   "source": [
    "<h2 style=\"color:#333399\"> What is DHT11 ? </h2>"
   ]
  },
  {
   "cell_type": "raw",
   "metadata": {},
   "source": [
    "The DHT11 is a basic,digital temperature and humidity sensor. It uses a capacitive humidity sensor and a thermistor to measure the surrounding air, and spits out a digital signal on the data pin"
   ]
  },
  {
   "cell_type": "markdown",
   "metadata": {},
   "source": [
    "<img src=\"./pics/DH11.png\" style=\"width:500px;height:300px;\" > "
   ]
  },
  {
   "cell_type": "raw",
   "metadata": {},
   "source": [
    "Connecting the DH11 from Raspberry Pi GPIO "
   ]
  },
  {
   "cell_type": "markdown",
   "metadata": {},
   "source": [
    "<h2 style=\"color:#333399\"> Output the temperature readings to an SSH terminal.</h2>"
   ]
  },
  {
   "cell_type": "markdown",
   "metadata": {},
   "source": [
    "<p> All parameters (temperature, humidity and luminosity, delay, flow rate) are stored\n",
    "in the same record (table) of a database MySQL. </p>"
   ]
  },
  {
   "cell_type": "markdown",
   "metadata": {},
   "source": [
    "\n",
    "<h1 style=\"color:green  \"> 2. Python Code for data aquisation </h1>"
   ]
  },
  {
   "cell_type": "code",
   "execution_count": null,
   "metadata": {},
   "outputs": [],
   "source": [
    "import serial\n",
    "import datetime\n",
    "import time\n",
    "import Adafruit_DHT\n",
    "import mysql.connector\n",
    "\n",
    "USERNAME =\"piste\"\n",
    "PASSWORD = \"piste10\"\n",
    "DBNAME = \"groupe3\"\n",
    "HOSTNAME = \"ec2-54-229-181-249.eu-west-1.compute.amazonaws.com\"  \n",
    " \n",
    "\n",
    "con =mysql.connector.connect(host = HOSTNAME ,user= USERNAME,passwd = PASSWORD ,db =  DBNAME, port = 3306)\n",
    "con.autocommit = True\n",
    "cursor = con.cursor()\n",
    "print (\"Connected to PISTE10 Database!\")\n",
    " \n",
    "while True :\n",
    "        Humidity, Temperature = Adafruit_DHT.read_retry(11, 27)  # GPIO27 (BCM notation)\n",
    "        print (\"Humidity = {} %; Temperature = {} C\".format(Humidity, Temperature))\n",
    "        cursor.execute(\"INSERT INTO  agro (Sensor_ID,Humidity,Temperature,Delay,Flow_Rate,time,date) VALUES(%s,%s,%s,%s,%s,%s,%s)\" ,\n",
    "        (1,Humidity,Temperature,0,0,time.strftime(r\"%H:%M:%S\", time.localtime()),time.strftime(r\"%Y-%m-%d\", time.localtime())))\n",
    "        time.sleep(5)\n",
    "        print (\"Done !\")\n",
    "cursor.close()\n",
    "con.close()"
   ]
  },
  {
   "cell_type": "markdown",
   "metadata": {},
   "source": [
    "<h2 style=\"color:#333399\"> Explication step by step of the Python code  </h2>"
   ]
  },
  {
   "cell_type": "markdown",
   "metadata": {},
   "source": [
    "<h3 style=\"color:#C70039\"> Importing Python's needed modules  </h3>"
   ]
  },
  {
   "cell_type": "code",
   "execution_count": null,
   "metadata": {},
   "outputs": [],
   "source": [
    "import serial           #encapsulates the access for the serial port,automatically selects the appropriate backend for python\n",
    "import datetime         # provides classes to manipulate dates and times\n",
    "import time             #handle time-related tasks.\n",
    "import Adafruit_DHT     #library used to communicate with DH11 sensor \n",
    "import mysql.connector  #Python needs a MySQL driver to access the MySQL database"
   ]
  },
  {
   "cell_type": "markdown",
   "metadata": {},
   "source": [
    "<h3 style=\"color:#C70039\"> Installing Adafruit_DHT   </h3>"
   ]
  },
  {
   "cell_type": "markdown",
   "metadata": {},
   "source": [
    "<p> installing Python library to read the DHT series of humidity and temperature sensors on a Raspberry Pi.\n",
    "\n",
    "Designed specifically to work with the Adafruit DHT series sensors </p>"
   ]
  },
  {
   "cell_type": "code",
   "execution_count": null,
   "metadata": {},
   "outputs": [],
   "source": [
    "sudo apt-get update                 \n",
    "\n",
    "sudo apt-get install python-pip\n",
    "\n",
    "sudo pip install Adafruit_DHT"
   ]
  },
  {
   "cell_type": "markdown",
   "metadata": {},
   "source": [
    "<h3 style=\"color:#C70039\"> Installing mysql.connector </h3>"
   ]
  },
  {
   "cell_type": "markdown",
   "metadata": {},
   "source": [
    "<p> MySQL Connector/Python, a self-contained Python driver for communicating with MySQL servers </p>"
   ]
  },
  {
   "cell_type": "raw",
   "metadata": {},
   "source": [
    "sudo apt-get update\n",
    "sudo apt-get upgrade\n",
    "\n",
    "pip install install mysql-connector_python"
   ]
  },
  {
   "cell_type": "markdown",
   "metadata": {},
   "source": [
    "<h3 style=\"color:#C70039\"> Connection to the Database  </h3>"
   ]
  },
  {
   "cell_type": "code",
   "execution_count": null,
   "metadata": {},
   "outputs": [],
   "source": [
    "USERNAME =\"piste\"                                                #creation of a user of the database \n",
    "PASSWORD = \"piste10\"                                             #password of the usre to access the database\n",
    "DBNAME = \"groupe3\"                                               #table name\n",
    "HOSTNAME = \"ec2-54-229-181-249.eu-west-1.compute.amazonaws.com\"  #DNS public (IPv4) of the aws EC2 instance \n"
   ]
  },
  {
   "cell_type": "markdown",
   "metadata": {},
   "source": [
    "<h3 style=\"color:#C70039\"> Setups for EC2 and phpMyAdmin </h3>"
   ]
  },
  {
   "cell_type": "code",
   "execution_count": null,
   "metadata": {},
   "outputs": [],
   "source": [
    "we run the EC2 instance to abtain the DNS public (IPv4) "
   ]
  },
  {
   "cell_type": "markdown",
   "metadata": {},
   "source": [
    "<img src=\"./pics/ec2instance.png\" style=\"width:1000px;height:250px;\" > "
   ]
  },
  {
   "cell_type": "raw",
   "metadata": {},
   "source": [
    "we copy the DNS public (IPv4) of the aws EC2 instance in the URL section in the browser and we add /phpMyAdmin/ to login "
   ]
  },
  {
   "cell_type": "markdown",
   "metadata": {},
   "source": [
    "<img src=\"./pics/phpmyadmin.png\" style=\"width:1000px;height:250px;\" > "
   ]
  },
  {
   "cell_type": "markdown",
   "metadata": {},
   "source": [
    "<h3 style=\"color:#C70039\"> Steps to connect MySQL database in Python using MySQL Connector Python </h3>"
   ]
  },
  {
   "cell_type": "markdown",
   "metadata": {},
   "source": [
    "<p>1) Install MySQL Connector Python using pip.\n",
    "\n",
    "2) Use the  mysql.connector.connect()  method of MySQL Connector Python with required parameters to connect MySQL.\n",
    "\n",
    "3) Use the connection object returned by a  connect()  method to create a cursor object to perform Database Operations.\n",
    "\n",
    "4) The cursor.execute() to execute SQL queries from Python.\n",
    "\n",
    "5) Close the Cursor object using a cursor.close() and MySQL database connection using connection.close() after your work    completes.\n",
    "\n",
    "6) Catch Exception if any that may occur during this process. </p>"
   ]
  },
  {
   "cell_type": "markdown",
   "metadata": {},
   "source": [
    "<img src=\"pics/schemaphp.png\"> </img>"
   ]
  },
  {
   "cell_type": "markdown",
   "metadata": {},
   "source": [
    " <h3 style=\"color:#C70039\"> Understand the Python MySQL Database connection program </h3>"
   ]
  },
  {
   "cell_type": "code",
   "execution_count": null,
   "metadata": {},
   "outputs": [],
   "source": [
    "con =mysql.connector.connect(host = HOSTNAME ,user= USERNAME,passwd = PASSWORD ,db =  DBNAME, port = 3306)"
   ]
  },
  {
   "cell_type": "markdown",
   "metadata": {},
   "source": [
    "<p> \n",
    "<li> mysql.connector.connect() : Using this function we can connect the MySQL Database. </li> \n",
    "    <br>\n",
    "<li>This function accepts four required parameters: Host, Database, User  and Password that we already discussed. </li>\n",
    "\n",
    "<br>\n",
    "<li>connect() function established a connection to the  MySQL database from python application and returned a MySQLConnection object.  Then we can use MySQLConnection object to perform various operation on the MySQL Database. </li> </p>"
   ]
  },
  {
   "cell_type": "code",
   "execution_count": null,
   "metadata": {},
   "outputs": [],
   "source": [
    "con.autocommit = True"
   ]
  },
  {
   "cell_type": "markdown",
   "metadata": {},
   "source": [
    "<p> <li>MySQLdb disables autocommit by default, as required by the DB-API standard (PEP-249).you'll need to do connection.autocommit()  before closing the connection, or else none of your changes will be written to the database. </li>\n",
    "    <br>\n",
    "    \n",
    "<li>Mysql DB supports transaction, \"if the database supports an auto-commit feature, this must be initially off\" and \"closing a connection without committing the changes first will cause an implicit rollback to be performed\". </li> </p>"
   ]
  },
  {
   "cell_type": "code",
   "execution_count": null,
   "metadata": {},
   "outputs": [],
   "source": [
    "cursor = con.cursor()\n",
    "print (\"Connected to PISTE10 Database!\")"
   ]
  },
  {
   "cell_type": "markdown",
   "metadata": {},
   "source": [
    "<p> <li> This method returns a cursor object. Using a cursor object, we can execute SQL queries. </li> \n",
    "    <br>\n",
    "\n",
    "<li>The MySQLCursor class instantiates objects that can execute operations such as SQL statements.\n",
    "Cursor objects interact with the MySQL server using a MySQLConnection object. </li> </p>"
   ]
  },
  {
   "cell_type": "code",
   "execution_count": null,
   "metadata": {},
   "outputs": [],
   "source": [
    "while True :\n",
    "        Humidity, Temperature = Adafruit_DHT.read_retry(11, 27)  # GPIO27 (BCM notation) and 11 : DH11 sensor \n",
    "        print (\"Humidity = {} %; Temperature = {} C\".format(Humidity, Temperature))"
   ]
  },
  {
   "cell_type": "markdown",
   "metadata": {},
   "source": [
    "<p> humidity, temperature = Adafruit_DHT.read_retry(sensor, pin)\n",
    "<p>    </p>  \n",
    "<li>the variables humidity and tempreture will get the values from the connection to the DH11 sensor  </li>\n",
    "<br/>\n",
    "\n",
    "<li>Try to grab a sensor reading.  Use the read_retry method which will retry up\n",
    "to 15 times to get a sensor reading (waiting 2 seconds between each retry).</li> </p>\n"
   ]
  },
  {
   "cell_type": "code",
   "execution_count": null,
   "metadata": {},
   "outputs": [],
   "source": [
    "cursor.execute(\"INSERT INTO  agro (Sensor_ID,Humidity,Temperature,Delay,Flow_Rate,time,date) VALUES(%s,%s,%s,%s,%s,%s,%s)\" ,\n",
    "        (1,Humidity,Temperature,0,0,time.strftime(r\"%H:%M:%S\", time.localtime()),time.strftime(r\"%Y-%m-%d\", time.localtime())))"
   ]
  },
  {
   "cell_type": "markdown",
   "metadata": {},
   "source": [
    "<p> cursor.execute(operation, params=None, multi=False)\n",
    "\n",
    "This method executes the given database operation (query or command). The parameters found in the tuple or dictionary params are bound to the variables in the operation. Specify variables using %s or %(name)s parameter style (that is, using format or pyformat style). execute() returns an iterator if multi is True. </p>\n",
    "\n",
    "<p> Using cursor.execute(sql_insert_query, records_to_insert)we are inserting a row (from a List) into the table. </p>"
   ]
  },
  {
   "cell_type": "markdown",
   "metadata": {},
   "source": [
    "time.sleep(5)\n",
    "print (\"Done !\")"
   ]
  },
  {
   "cell_type": "markdown",
   "metadata": {},
   "source": [
    "<p> wait 5 seconds before every insert in the database </p>"
   ]
  },
  {
   "cell_type": "code",
   "execution_count": null,
   "metadata": {},
   "outputs": [],
   "source": [
    "cursor.close()\n"
   ]
  },
  {
   "cell_type": "markdown",
   "metadata": {},
   "source": [
    "<p> Using cursor’s close method we can close the cursor object. Once we close the cursor object, we can not execute any SQL statement.</p>"
   ]
  },
  {
   "cell_type": "code",
   "execution_count": null,
   "metadata": {},
   "outputs": [],
   "source": [
    "con.close()"
   ]
  },
  {
   "cell_type": "markdown",
   "metadata": {},
   "source": [
    "<p> At last, we are closing the MySQL database connection using a close()  function of MySQLConnection class. </p> "
   ]
  },
  {
   "cell_type": "markdown",
   "metadata": {},
   "source": [
    "<h2 style=\"color:#333399\"> Results after executing the python code </h2>"
   ]
  },
  {
   "cell_type": "markdown",
   "metadata": {},
   "source": [
    "<img src=\"pics/database.png\"> </img>"
   ]
  },
  {
   "cell_type": "markdown",
   "metadata": {},
   "source": [
    "<h1 style=\"color:green  \"> 2. USART connection between Raspberry Pi and STM32 Lora </h1>"
   ]
  },
  {
   "cell_type": "markdown",
   "metadata": {},
   "source": [
    "<h2 style=\"color:#333399\"> Raspberry Pi UART GPIO</h2>"
   ]
  },
  {
   "cell_type": "markdown",
   "metadata": {},
   "source": [
    "<img src=\"./pics/Pi UART pins.png\" > </img>"
   ]
  },
  {
   "cell_type": "markdown",
   "metadata": {},
   "source": [
    "<h2 style=\"color:#333399\"> STM32 Lora UART GPIO</h2>"
   ]
  },
  {
   "cell_type": "markdown",
   "metadata": {},
   "source": [
    "<img src=\"./pics/stm32 uart.jpg\" > </img>"
   ]
  },
  {
   "cell_type": "markdown",
   "metadata": {},
   "source": [
    "<h2 style=\"color:#333399\"> Raspberry Pi Configuration</h2>"
   ]
  },
  {
   "cell_type": "markdown",
   "metadata": {},
   "source": [
    "<img src=\"./pics/congig1.PNG\" > </img>"
   ]
  },
  {
   "cell_type": "markdown",
   "metadata": {},
   "source": [
    "<img src=\"./pics/congig2.PNG\" > </img>"
   ]
  },
  {
   "cell_type": "markdown",
   "metadata": {},
   "source": [
    "<img src=\"./pics/config3.PNG\" > </img>"
   ]
  },
  {
   "cell_type": "markdown",
   "metadata": {},
   "source": [
    "<img src=\"./pics/config4.PNG\" > </img>"
   ]
  },
  {
   "cell_type": "markdown",
   "metadata": {},
   "source": [
    "<img src=\"./pics/config5.PNG\" > </img>"
   ]
  },
  {
   "cell_type": "markdown",
   "metadata": {},
   "source": [
    "<p>After in the raspberry pi configuration, we connect the Rx in Raspberry Pi(GPIO15) with\n",
    "the Tx of STM32(PA9) and the  Tx in Raspberry Pi(GPIO14) with the Rx of STM32(PA10)</p>"
   ]
  },
  {
   "cell_type": "markdown",
   "metadata": {},
   "source": [
    "<h2 style=\"color:#333399\"> Pyhton Code of the reception of data and its storage in the database </h2>"
   ]
  },
  {
   "cell_type": "code",
   "execution_count": null,
   "metadata": {},
   "outputs": [],
   "source": [
    "import datetime\n",
    "import time\n",
    "import serial\n",
    "from binascii import hexlify\n",
    "import mysql.connector\n",
    "\n",
    "#Connection to AWS database\n",
    "USERNAME =\"piste10\"\n",
    "PASSWORD = \"piste10\"\n",
    "DBNAME = \"PISTE10\"\n",
    "HOSTNAME = \"ec2-108-128-15-84.eu-west-1.compute.amazonaws.com\"  \n",
    " \n",
    "\n",
    "con =mysql.connector.connect(host = HOSTNAME ,user= USERNAME,passwd = PASSWORD ,db =  DBNAME, port = 3306)\n",
    "con.autocommit = True\n",
    "cursor = con.cursor()\n",
    "print (\"Connected to your Database!\")\n",
    "\n",
    "#getting measurments\n",
    "ser = serial.Serial(\n",
    "    port='/dev/ttyUSB0',\n",
    "    baudrate = 115200,\n",
    "    parity=serial.PARITY_NONE,\n",
    "    stopbits=serial.STOPBITS_ONE,\n",
    "    bytesize=serial.EIGHTBITS,\n",
    "    timeout=1\n",
    "    )\n",
    "print('Connected')\n",
    "while True :\n",
    "    data = ser.readline()\n",
    "    if data:\n",
    "        print(data)\n",
    "        x = data.decode(\"utf-8\").split(\":\")\n",
    "        print(x)\n",
    "        ID = x[0]\n",
    "        temp= x[1]\n",
    "        hum = x[2]\n",
    "        lum= x[3]\n",
    "        cursor.execute(\"INSERT INTO Agro_Environmental_Parameters(Node_ID,Luminosity,Humidity,Temperature,Time,Date) VALUES(%s,%s,%s,%s,%s,%s)\" ,(ID, lum, hum, temp, time.strftime(r\"%H:%M:%S\", time.localtime()),time.strftime(r\"%Y-%m-%d\", time.localtime())))\n",
    "#        cursor.execute(\"INSERT INTO Agro_Environmental_Parameters(Node_ID,Luminosity,Humidity,Temperature, Time, Date) VALUES(%s,%s, %s, %s,%s,%s)\" ,\n",
    "#        (1,Humidity,Temperature,1,time.strftime(r\"%H:%M:%S\", time.localtime())))\n",
    "        time.sleep(2)\n",
    "        print (\"Done !\")\n",
    "cursor.close()\n",
    "con.close()\n",
    "\n",
    "\n",
    "\n"
   ]
  },
  {
   "cell_type": "markdown",
   "metadata": {},
   "source": [
    "<p> This Python code assures the reception of data from the gateway( between the 2 STM32 Lora ) and the insertion of this data in the data base through the Raspberry Pi  </p>"
   ]
  },
  {
   "cell_type": "markdown",
   "metadata": {},
   "source": [
    "<h2 style=\"color:#333399\"> The format of the received mesurments from the Gateway </h2>"
   ]
  },
  {
   "cell_type": "markdown",
   "metadata": {},
   "source": [
    "<img src=\"./pics/reciving.png\" >"
   ]
  },
  {
   "cell_type": "markdown",
   "metadata": {},
   "source": [
    "<p>After receiving the mesurments, and since we are connected to the database we can send the data and insert it in the database</p>"
   ]
  },
  {
   "cell_type": "markdown",
   "metadata": {},
   "source": [
    "<img src=\"./pics/finaldatabase.png\">"
   ]
  },
  {
   "cell_type": "markdown",
   "metadata": {},
   "source": [
    "<p>Finally this mesurments will be analyzed by the machine learninig algorithm to determine the decision. </p>"
   ]
  },
  {
   "cell_type": "code",
   "execution_count": null,
   "metadata": {},
   "outputs": [],
   "source": []
  }
 ],
 "metadata": {
  "kernelspec": {
   "display_name": "Python 3",
   "language": "python",
   "name": "python3"
  },
  "language_info": {
   "codemirror_mode": {
    "name": "ipython",
    "version": 3
   },
   "file_extension": ".py",
   "mimetype": "text/x-python",
   "name": "python",
   "nbconvert_exporter": "python",
   "pygments_lexer": "ipython3",
   "version": "3.7.1"
  }
 },
 "nbformat": 4,
 "nbformat_minor": 2
}

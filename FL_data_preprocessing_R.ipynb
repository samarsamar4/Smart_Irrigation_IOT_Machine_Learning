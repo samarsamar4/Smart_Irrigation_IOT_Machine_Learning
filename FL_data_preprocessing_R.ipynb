{
 "cells": [
  {
   "cell_type": "markdown",
   "metadata": {},
   "source": [
    "# PISTE 10 | 2019\n",
    "> We used the IBM Watson Studio to benefit from it's performance and for the simple use of Jupyter notebook for AI tasks\n",
    "![title](piste_notebook/fl1.png)"
   ]
  },
  {
   "cell_type": "markdown",
   "metadata": {},
   "source": [
    "# Part4:\n",
    "it consists of :\n",
    "> exploitation of the measures collected by the different sensors (Temperature, Humidity, Luminosity)\n",
    "> establishing analyzes and statistics by applying the approaches of fuzzy logic"
   ]
  },
  {
   "cell_type": "markdown",
   "metadata": {},
   "source": [
    "# Fuzzy Logic : What is it ?\n",
    "\n",
    "![title](piste_notebook/fl2.png)\n",
    "\n",
    "> Fuzzy logic is a branch of machine intelligence that helps computers understand the variations that occur in the uncertain and vague world in which we exist. Fuzzy logic \"manipulates\" vague concepts such as \"hot\" or \"fast\", so as to facilitate the design of machines such as air conditioners and speed control systems to pass or pass a set of criteria. control to another. Even if the reason is that \"it is too hot or not enough to go faster or slower\": all these \"instructions\" are far from the digital world of simple 1 and 0 binaries. Neural networks, which are collections of \"neurons\" and \"synapses,\" change in response to inputs from surrounding neurons and synapses. The neural network acts like a computer because it maps the inputs to the outputs. Neurons and synapses can be silicon components or software equations that simulate their behavior. A neuron adds all incoming signals from other neurons and then emits its own response as a numbe"
   ]
  },
  {
   "cell_type": "markdown",
   "metadata": {},
   "source": [
    "> Fuzzification is the process of converting a clear entry into a fuzzy value. It converts a value in clear points of the process state variable to be compatible with the representation of the fuzzy set of the system state variable in the previous rule.\n",
    "\n",
    "![title](piste_notebook/fl3.png)\n",
    "\n",
    "> Defuzzification is the inverse process of conversion"
   ]
  },
  {
   "cell_type": "markdown",
   "metadata": {},
   "source": [
    "> Fuzzification is defined as a mapping from a real value point X∈ U ⊂ Rn to a fuzzy set A ∈ U. If the form of uncertainty occurs because of inaccuracy, ambiguity or the blur, then the variable is probably fuzzy and can be represented by a membership function.\n",
    "In fuzzy control, the inputs usually come from a piece of material, or a sensor.\n",
    "\n",
    "![title](piste_notebook/fl4.png)"
   ]
  },
  {
   "cell_type": "markdown",
   "metadata": {},
   "source": [
    "> Examples of Fuzifier functions :\n",
    "\n",
    "![title](piste_notebook/fl5.png)"
   ]
  },
  {
   "cell_type": "markdown",
   "metadata": {},
   "source": [
    "> Defuzzification:\n",
    "This is a mapping from a set blur B0 ∈ V ⊂ R (the output of the inference engine fuzzy) at point y ∈ V"
   ]
  },
  {
   "cell_type": "markdown",
   "metadata": {},
   "source": [
    "## Now we understand how fuzzy logic is structured, Let's start with building our prediction model based on it :"
   ]
  },
  {
   "cell_type": "code",
   "execution_count": 2,
   "metadata": {},
   "outputs": [
    {
     "name": "stderr",
     "output_type": "stream",
     "text": [
      "Installing package into 'C:/Users/Dell/Documents/R/win-library/3.5'\n",
      "(as 'lib' is unspecified)\n",
      "Warning message in unlink(tmpf):\n",
      "\"cannot get info on 'C:\\Users\\Dell\\AppData\\Local\\Temp\\RtmpqoI1Sc\\file3294353c7bf0', reason 'Accès refusé'\"Warning message:\n",
      "\"unable to access index for repository http://www.stats.ox.ac.uk/pub/RWin/bin/windows/contrib/3.5:\n",
      "  impossible d'ouvrir l'URL 'http://www.stats.ox.ac.uk/pub/RWin/bin/windows/contrib/3.5/PACKAGES'\""
     ]
    },
    {
     "name": "stdout",
     "output_type": "stream",
     "text": [
      "package 'sets' successfully unpacked and MD5 sums checked\n",
      "\n",
      "The downloaded binary packages are in\n",
      "\tC:\\Users\\Dell\\AppData\\Local\\Temp\\RtmpqoI1Sc\\downloaded_packages\n"
     ]
    }
   ],
   "source": [
    "#installing libraries to use \n",
    "install.packages(\"sets\")"
   ]
  },
  {
   "cell_type": "code",
   "execution_count": 5,
   "metadata": {},
   "outputs": [
    {
     "name": "stderr",
     "output_type": "stream",
     "text": [
      "Installing package into 'C:/Users/Dell/Documents/R/win-library/3.5'\n",
      "(as 'lib' is unspecified)\n",
      "Warning message in install.packages(\"RMySQL\", type = \"source\"):\n",
      "\"installation of package 'RMySQL' had non-zero exit status\""
     ]
    }
   ],
   "source": [
    "install.packages('RMySQL',type='source')"
   ]
  },
  {
   "cell_type": "code",
   "execution_count": 6,
   "metadata": {},
   "outputs": [
    {
     "ename": "ERROR",
     "evalue": "Error in library(RMySQL): there is no package called 'RMySQL'\n",
     "output_type": "error",
     "traceback": [
      "Error in library(RMySQL): there is no package called 'RMySQL'\nTraceback:\n",
      "1. library(RMySQL)",
      "2. stop(txt, domain = NA)"
     ]
    }
   ],
   "source": [
    "#----Loading libraries-------#\n",
    "library(sets)\n",
    "library(RMySQL)\n",
    "library(DBI)"
   ]
  },
  {
   "cell_type": "markdown",
   "metadata": {},
   "source": [
    "> Fuzzy system rules :\n",
    "> The fuzzy rules are IF-THEN- linguistic constructs that have the general form \"IF A THEN B\" where A and B are (collections of) propositions containing linguistic variables. A is called the premise and B is the consequence of the rule. Indeed, the use of linguistic variables and fuzzy IF-THEN rules exploits the tolerance of imprecision and uncertainty. In this respect, fuzzy logic mimics the critical ability of the human mind to summarize data and focus on information useful to decision making.\n",
    "\n",
    "![title](piste_notebook/fl6.png)"
   ]
  },
  {
   "cell_type": "code",
   "execution_count": 7,
   "metadata": {},
   "outputs": [
    {
     "name": "stdout",
     "output_type": "stream",
     "text": [
      "A fuzzy system consisting of 4 variables and 13 rules.\n",
      "\n",
      "Variables:\n",
      "\n",
      "Temperature(Cold, Medium, Hot)\n",
      "Humidity(Dry, Medium, Wet)\n",
      "Luminosity(Dark, Medium, Light)\n",
      "Duration(Zero, VShort, Short, Long, VLong)\n",
      "\n",
      "Rules:\n",
      "\n",
      "Humidity %is% Dry && Temperature %is% Cold => Duration %is% VLong\n",
      "Humidity %is% Medium && Temperature %is% Cold => Duration %is% Short\n",
      "Humidity %is% Dry && Temperature %is% Hot && Luminosity %is%  => Duration %is% VLong\n",
      "    Dark => Duration %is% VLong\n",
      "Humidity %is% Dry && Temperature %is% Hot && Luminosity %is%  => Duration %is% Zero\n",
      "    Light => Duration %is% Zero\n",
      "Humidity %is% Dry && Temperature %is% Hot && Luminosity %is%  => Duration %is% VShort\n",
      "    Medium => Duration %is% VShort\n",
      "Humidity %is% Dry && Temperature %is% Medium && Luminosity %is%  => Duration %is% Short\n",
      "    Light => Duration %is% Short\n",
      "Humidity %is% Medium && Temperature %is% Hot && Luminosity %is%  => Duration %is% Long\n",
      "    Dark => Duration %is% Long\n",
      "Humidity %is% Medium && Temperature %is% Hot && Luminosity %is%  => Duration %is% Zero\n",
      "    Light => Duration %is% Zero\n",
      "Humidity %is% Medium && Temperature %is% Hot && Luminosity %is%  => Duration %is% VShort\n",
      "    Medium => Duration %is% VShort\n",
      "Humidity %is% Medium && Temperature %is% Medium && Luminosity %is%  => Duration %is% Short\n",
      "    Dark => Duration %is% Short\n",
      "Humidity %is% Dry && Temperature %is% Medium && Luminosity %is%  => Duration %is% Long\n",
      "    Medium || Luminosity %is% Dark => Duration %is% Long\n",
      "Humidity %is% Medium && Temperature %is% Medium && Luminosity %is%  => Duration %is% VShort\n",
      "    Light || Luminosity %is% Medium => Duration %is% VShort\n",
      "Humidity %is% Wet => Duration %is% Zero\n"
     ]
    },
    {
     "data": {
      "image/png": "[encoded data removed]",
      "text/plain": [
       "Plot with title \"Duration\""
      ]
     },
     "metadata": {},
     "output_type": "display_data"
    }
   ],
   "source": [
    "#------------Building our water prediction system based on fuzzy system-----------#\n",
    "variables <- set(\n",
    "  Temperature = fuzzy_partition(varnames = c(Cold = 15, Medium = 30, Hot = 45), sd = 7.5,\n",
    "                                universe = seq( from = 0, to= 100, by = 0.1 )),\n",
    "  Humidity = fuzzy_partition(varnames = c(Dry = 0, Medium = 50, Wet = 100), sd = 17.5,\n",
    "                             universe = seq( from = 0, to= 100, by = 0.1 )),\n",
    "  Luminosity = fuzzy_partition(varnames = c(Dark = 0, Medium = 7500, Light = 15000), sd = 5000,\n",
    "                               universe = seq( from = 0, to= 15000, by = 1 )),\n",
    "  Duration = fuzzy_partition(varnames =c(Zero = 0, VShort= 8, Short = 16, Long = 24, VLong = 32), sd = 3,\n",
    "                          universe = seq( from = 0, to= 50, by = 0.1 ))\n",
    ")\n",
    "\n",
    "rules <-set(\n",
    "  #-------------------------------------------------------------------------------------------------------------#\n",
    "  fuzzy_rule(Humidity %is% Wet ,Duration %is% Zero),\n",
    "  #-------------------------------------------------------------------------------------------------------------#\n",
    "  fuzzy_rule(Humidity %is% Medium && Temperature %is% Cold, Duration %is% Short),\n",
    "  fuzzy_rule(Humidity %is% Medium && Temperature %is% Medium && Luminosity %is% Light || Luminosity %is% Medium, Duration %is% VShort),\n",
    "  fuzzy_rule(Humidity %is% Medium && Temperature %is% Medium && Luminosity %is% Dark, Duration %is% Short),\n",
    "  fuzzy_rule(Humidity %is% Medium && Temperature %is% Hot && Luminosity %is% Light, Duration %is% Zero),\n",
    "  fuzzy_rule(Humidity %is% Medium && Temperature %is% Hot && Luminosity %is% Medium, Duration %is% VShort),\n",
    "  fuzzy_rule(Humidity %is% Medium && Temperature %is% Hot && Luminosity %is% Dark, Duration %is% Long),\n",
    "  #-------------------------------------------------------------------------------------------------------------#\n",
    "    fuzzy_rule(Humidity %is% Dry && Temperature %is% Cold, Duration %is% VLong),\n",
    "  fuzzy_rule(Humidity %is% Dry && Temperature %is% Medium && Luminosity %is% Light, Duration %is% Short),\n",
    "  fuzzy_rule(Humidity %is% Dry && Temperature %is% Medium && Luminosity %is% Medium || Luminosity %is% Dark, Duration %is% Long),\n",
    "  fuzzy_rule(Humidity %is% Dry && Temperature %is% Hot && Luminosity %is% Light, Duration %is% Zero),\n",
    "  fuzzy_rule(Humidity %is% Dry && Temperature %is% Hot && Luminosity %is% Medium, Duration %is% VShort),\n",
    "  fuzzy_rule(Humidity %is% Dry && Temperature %is% Hot && Luminosity %is% Dark, Duration %is% VLong)\n",
    ")\n",
    "\n",
    "Water_System <- fuzzy_system(variables, rules)\n",
    "print(Water_System)\n",
    "plot(Water_System)"
   ]
  },
  {
   "cell_type": "code",
   "execution_count": 8,
   "metadata": {},
   "outputs": [
    {
     "name": "stdout",
     "output_type": "stream",
     "text": [
      "[1] 14.61566\n",
      "[1] 9.792491\n"
     ]
    }
   ],
   "source": [
    "#------------------Simple test---------------#\n",
    "debit = 0.67\n",
    "f1 <- fuzzy_inference(Water_System, list( Temperature= 30, Humidity= 65 , Luminosity= 6200))\n",
    "duration1 <- gset_defuzzify(f1, \"centroid\")\n",
    "print(duration1)\n",
    "volume1 = duration1 * debit\n",
    "print(volume1)"
   ]
  },
  {
   "cell_type": "markdown",
   "metadata": {},
   "source": [
    "# Remote Access to Database located in a AWS instance\n",
    "\n",
    "![title](piste_notebook/fl7.png)"
   ]
  },
  {
   "cell_type": "code",
   "execution_count": 11,
   "metadata": {},
   "outputs": [],
   "source": [
    "#----DataBase (Sensor_Data) variables retrieve -------#\n",
    "mySqlCreds <- list(dbhostname =\"ec2-108-128-15-84.eu-west-1.compute.amazonaws.com\",\n",
    "                   dbname ='PISTE10',\n",
    "                   username='piste10',\n",
    "                   pass = 'piste10',\n",
    "                   port = 3306\n",
    ")"
   ]
  },
  {
   "cell_type": "markdown",
   "metadata": {},
   "source": [
    "# Exploiting mesures stored in a table in our database, making decisions and storing them in another table for the results\n",
    "\n",
    "![title](piste_notebook/fl8.png)"
   ]
  },
  {
   "cell_type": "code",
   "execution_count": 12,
   "metadata": {},
   "outputs": [
    {
     "ename": "ERROR",
     "evalue": "Error in dbConnect(dbDriver(\"MySQL\"), host = mySqlCreds$dbhostname, dbname = mySqlCreds$dbname, : impossible de trouver la fonction \"dbConnect\"\n",
     "output_type": "error",
     "traceback": [
      "Error in dbConnect(dbDriver(\"MySQL\"), host = mySqlCreds$dbhostname, dbname = mySqlCreds$dbname, : impossible de trouver la fonction \"dbConnect\"\nTraceback:\n"
     ]
    }
   ],
   "source": [
    "count <- 1\n",
    "while (TRUE) {\n",
    "  con<- dbConnect(\n",
    "    dbDriver(\"MySQL\"),\n",
    "    host = mySqlCreds$dbhostname,\n",
    "    dbname = mySqlCreds$dbname,\n",
    "    user =mySqlCreds$username,\n",
    "    password = mySqlCreds$pass,\n",
    "    port=mySqlCreds$port\n",
    "  )\n",
    "  RowQuery <- \"SELECT COUNT(*) FROM Agro_Environmental_Parameters \"\n",
    "  rowscount <- dbGetQuery(con, RowQuery)\n",
    "  \n",
    "  while (count <= rowscount) {\n",
    "    myQuery <- paste(\"SELECT * from Agro_Environmental_Parameters where Row_ID = '\",count,\"';\",sep=\"\")\n",
    "    data.frame <- dbGetQuery(con, myQuery)\n",
    "    \n",
    "    #----Fuzzy Logic : Duration prediction-------#\n",
    "    options(digits=3)\n",
    "    v1 <-  as.double(data.frame$Temperature)\n",
    "    v2 <- as.double(data.frame$Humidity)\n",
    "    v3 <- as.double(data.frame$Luminosity)\n",
    "    f1 <- fuzzy_inference(Water_System, list( Temperature= v1, Humidity= v2 , Luminosity=  v3  ))\n",
    "    duration <- gset_defuzzify(f1, \"centroid\")\n",
    "    if (duration < 12.5) \n",
    "      decision <- 0\n",
    "    else\n",
    "      decision <- 1\n",
    "    #-----Seeing results---#\n",
    "    print(duration)\n",
    "    print(decision)\n",
    "    \n",
    "    \n",
    "    #----DataBase (resultat) Writing -------#\n",
    "    values <- data.frame(\n",
    "      Row_ID= data.frame$Row_ID ,\n",
    "      Node_ID= data.frame$Node_ID ,\n",
    "      Luminosity = data.frame$Luminosity ,\n",
    "      Humidity = data.frame$Humidity , \n",
    "      Temperature = data.frame$Temperature  , \n",
    "      Time = data.frame$Time , \n",
    "      Date =  data.frame$Date , \n",
    "      Duration = duration ,\n",
    "      Decision = decision \n",
    "    )\n",
    "    \n",
    "    dbWriteTable(con,\"resultats\",values, overwrite=FALSE,append=TRUE, row.names = FALSE)\n",
    "    count <- count +1\n",
    "  }\n",
    "  #----Disconnect -------#\n",
    "  dbDisconnect(con)\n",
    "  Sys.sleep(20)\n",
    "  print('Data stored successfully : Sleep Time before Relaunch!')\n",
    "}\n",
    "\n",
    "#lapply(dbListConnections(MySQL()), dbDisconnect)"
   ]
  },
  {
   "cell_type": "markdown",
   "metadata": {},
   "source": [
    "# Sensor's measurments :\n",
    "\n",
    "![title](piste_notebook/fl10.png)"
   ]
  },
  {
   "cell_type": "markdown",
   "metadata": {},
   "source": [
    "# Results using Fuzzy logic aproach :\n",
    "\n",
    "![title](piste_notebook/fl9.png)"
   ]
  },
  {
   "cell_type": "code",
   "execution_count": 13,
   "metadata": {},
   "outputs": [],
   "source": [
    "#______________________________________Fin_______________________________________________"
   ]
  }
 ],
 "metadata": {
  "kernelspec": {
   "display_name": "Python 3",
   "language": "python",
   "name": "python3"
  },
  "language_info": {
   "codemirror_mode": {
    "name": "ipython",
    "version": 3
   },
   "file_extension": ".py",
   "mimetype": "text/x-python",
   "name": "python",
   "nbconvert_exporter": "python",
   "pygments_lexer": "ipython3",
   "version": "3.7.1"
  }
 },
 "nbformat": 4,
 "nbformat_minor": 2
}
